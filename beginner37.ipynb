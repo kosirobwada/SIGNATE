{
  "nbformat": 4,
  "nbformat_minor": 0,
  "metadata": {
    "colab": {
      "provenance": [],
      "authorship_tag": "ABX9TyMDeAr9ubu15QZZLNKfrQW1",
      "include_colab_link": true
    },
    "kernelspec": {
      "name": "python3",
      "display_name": "Python 3"
    },
    "language_info": {
      "name": "python"
    }
  },
  "cells": [
    {
      "cell_type": "markdown",
      "metadata": {
        "id": "view-in-github",
        "colab_type": "text"
      },
      "source": [
        "<a href=\"https://colab.research.google.com/github/kosirobwada/SIGNATE/blob/main/beginner37.ipynb\" target=\"_parent\"><img src=\"https://colab.research.google.com/assets/colab-badge.svg\" alt=\"Open In Colab\"/></a>"
      ]
    },
    {
      "cell_type": "code",
      "execution_count": null,
      "metadata": {
        "id": "cX2VS_dyzc9L",
        "colab": {
          "base_uri": "https://localhost:8080/"
        },
        "outputId": "727ea3ee-2c1d-4121-d1cf-21121a350ad0"
      },
      "outputs": [
        {
          "output_type": "stream",
          "name": "stdout",
          "text": [
            "Mounted at /content/drive\n"
          ]
        }
      ],
      "source": [
        "#ドライブのマウント\n",
        "from google.colab import drive\n",
        "drive.mount('/content/drive')"
      ]
    },
    {
      "cell_type": "code",
      "source": [
        "import os\n",
        "import numpy as np\n",
        "import pandas as pd\n",
        "import seaborn as sns\n",
        "import matplotlib.pyplot as plt\n",
        "%matplotlib inline\n",
        "\n",
        "\n",
        "train = pd.read_csv('/content/drive/MyDrive/Colab Notebooks/SIGNATE/beginner37/train.csv')\n",
        "test = pd.read_csv('/content/drive/MyDrive/Colab Notebooks/SIGNATE/beginner37/test.csv')\n",
        "sample = pd.read_csv('/content/drive/MyDrive/Colab Notebooks/SIGNATE/beginner37/sample_submit.csv')"
      ],
      "metadata": {
        "id": "K3AenS_s0Lps"
      },
      "execution_count": null,
      "outputs": []
    },
    {
      "cell_type": "code",
      "source": [
        "print('train:', train.isnull().sum())\n",
        "print('test:', test.isnull().sum())"
      ],
      "metadata": {
        "colab": {
          "base_uri": "https://localhost:8080/"
        },
        "id": "T4TLrYso5jRM",
        "outputId": "cfc641fb-f9e0-43e2-daf2-4e57daf75e6a"
      },
      "execution_count": null,
      "outputs": [
        {
          "output_type": "stream",
          "name": "stdout",
          "text": [
            "train: id              0\n",
            "mpg             0\n",
            "cylinders       0\n",
            "displacement    0\n",
            "horsepower      0\n",
            "weight          0\n",
            "acceleration    0\n",
            "model year      0\n",
            "origin          0\n",
            "car name        0\n",
            "dtype: int64\n",
            "test: id              0\n",
            "cylinders       0\n",
            "displacement    0\n",
            "horsepower      0\n",
            "weight          0\n",
            "acceleration    0\n",
            "model year      0\n",
            "origin          0\n",
            "car name        0\n",
            "dtype: int64\n"
          ]
        }
      ]
    },
    {
      "cell_type": "code",
      "source": [
        "# ?の個数を確認する\n",
        "print(train[train['horsepower'] == '?'])"
      ],
      "metadata": {
        "colab": {
          "base_uri": "https://localhost:8080/"
        },
        "id": "BC8dcTb05m3Q",
        "outputId": "c4758c95-4d63-43cd-8496-84d59cb2b9f8"
      },
      "execution_count": null,
      "outputs": [
        {
          "output_type": "stream",
          "name": "stdout",
          "text": [
            "Empty DataFrame\n",
            "Columns: [id, mpg, cylinders, displacement, horsepower, weight, acceleration, model year, origin, car name]\n",
            "Index: []\n"
          ]
        }
      ]
    },
    {
      "cell_type": "code",
      "source": [
        "import numpy as np\n",
        "\n",
        "# Replace '?' with NaN for the 'horsepower' column\n",
        "train['horsepower'] = train['horsepower'].replace('?', np.nan)\n",
        "\n",
        "# Convert 'horsepower' column to float\n",
        "train['horsepower'] = train['horsepower'].astype(float)\n",
        "\n",
        "# Fill NaN values in 'horsepower' with its mean\n",
        "train['horsepower'] = train['horsepower'].fillna(train['horsepower'].mean())\n"
      ],
      "metadata": {
        "id": "wGc8ljjA5tzO"
      },
      "execution_count": null,
      "outputs": []
    },
    {
      "cell_type": "code",
      "source": [
        "import numpy as np\n",
        "\n",
        "# Replace '?' with NaN for the 'horsepower' column\n",
        "test['horsepower'] = test['horsepower'].replace('?', np.nan)\n",
        "\n",
        "# Convert 'horsepower' column to float\n",
        "test['horsepower'] = test['horsepower'].astype(float)\n",
        "\n",
        "# Fill NaN values in 'horsepower' with its mean\n",
        "test['horsepower'] = test['horsepower'].fillna(train['horsepower'].mean())\n"
      ],
      "metadata": {
        "id": "aeUU7j9d5u2u"
      },
      "execution_count": null,
      "outputs": []
    },
    {
      "cell_type": "code",
      "source": [
        "y = train['mpg']\n",
        "\n",
        "X_train = train.drop(['id', 'mpg', 'car name'], axis=1)\n",
        "X_test = test.drop(['id', 'car name'], axis=1)"
      ],
      "metadata": {
        "id": "cCe-Diy_50rn"
      },
      "execution_count": null,
      "outputs": []
    },
    {
      "cell_type": "code",
      "source": [
        "from sklearn.pipeline import Pipeline\n",
        "from sklearn.preprocessing import StandardScaler\n",
        "from sklearn.model_selection import GridSearchCV\n",
        "\n",
        "# 評価手法\n",
        "from sklearn.metrics import r2_score"
      ],
      "metadata": {
        "id": "q83N6R1Y6KXA"
      },
      "execution_count": null,
      "outputs": []
    },
    {
      "cell_type": "code",
      "source": [
        "# 学習モデル\n",
        "from sklearn.linear_model import LinearRegression,Ridge\n",
        "from sklearn.linear_model import LogisticRegression\n",
        "from sklearn.tree import DecisionTreeRegressor\n",
        "from sklearn.ensemble import RandomForestRegressor, GradientBoostingRegressor\n",
        "\n",
        "# pipeline setting\n",
        "pipelines = {\n",
        "     'ols': Pipeline([('scl',StandardScaler()),\n",
        "                      ('est',LinearRegression())]),\n",
        "\n",
        "     'ridge':Pipeline([('scl',StandardScaler()),\n",
        "                       ('est',Ridge(random_state=0))]),\n",
        "\n",
        "     'tree': Pipeline([('scl',StandardScaler()),\n",
        "                     ('est',DecisionTreeRegressor(random_state=0))]),\n",
        "\n",
        "     'rf': Pipeline([('scl',StandardScaler()),\n",
        "                     ('est',RandomForestRegressor(random_state=0))]),\n",
        "\n",
        "     'gbr1': Pipeline([('scl',StandardScaler()),\n",
        "                      ('est',GradientBoostingRegressor(random_state=0))]),\n",
        "\n",
        "     'gbr2': Pipeline([('scl',StandardScaler()),\n",
        "                      ('est',GradientBoostingRegressor(n_estimators=250,\n",
        "                                                       random_state=0))])\n",
        "}"
      ],
      "metadata": {
        "id": "16xZkmyP54Go"
      },
      "execution_count": null,
      "outputs": []
    },
    {
      "cell_type": "code",
      "source": [
        "#pipelineを作成するために一旦作成\n",
        "sample_pred = sample.iloc[:, 1]"
      ],
      "metadata": {
        "id": "un7BFy0e6ObY"
      },
      "execution_count": null,
      "outputs": []
    },
    {
      "cell_type": "code",
      "source": [
        "# X_testとsample_predのインデックスが完全に一致するか確認\n",
        "if X_test.index.equals(sample_pred.index):\n",
        "    print(\"X_testとsample_predのインデックスは一致しています。\")\n",
        "else:\n",
        "    print(\"X_testとsample_predのインデックスは一致していません。\")\n",
        "\n",
        "    # 一致していない場合、差異を表示\n",
        "    diff_indices_X_test = X_test.index.difference(sample_pred.index)\n",
        "    diff_indices_sample_pred = sample_pred.index.difference(X_test.index)\n",
        "\n",
        "    if not diff_indices_X_test.empty:\n",
        "        print(\"X_testに存在して、sample_predに存在しないインデックス:\", diff_indices_X_test)\n",
        "    if not diff_indices_sample_pred.empty:\n",
        "        print(\"sample_predに存在して、X_testに存在しないインデックス:\", diff_indices_sample_pred)\n"
      ],
      "metadata": {
        "colab": {
          "base_uri": "https://localhost:8080/"
        },
        "id": "lyxO6vKV6tBN",
        "outputId": "9ff454ee-a4e1-4442-8534-a01154d08d08"
      },
      "execution_count": null,
      "outputs": [
        {
          "output_type": "stream",
          "name": "stdout",
          "text": [
            "X_testとsample_predのインデックスは一致していません。\n",
            "X_testに存在して、sample_predに存在しないインデックス: RangeIndex(start=499, stop=500, step=1)\n"
          ]
        }
      ]
    },
    {
      "cell_type": "code",
      "source": [
        "X_test = X_test.drop(499)\n"
      ],
      "metadata": {
        "id": "IpePa_oy60AA"
      },
      "execution_count": null,
      "outputs": []
    },
    {
      "cell_type": "code",
      "source": [
        "# build and evaluate\n",
        "scores = {}\n",
        "for pipe_name, pipeline in pipelines.items():\n",
        "    pipeline.fit(X_train, y)\n",
        "    scores[(pipe_name,'train')] = r2_score(y, pipeline.predict(X_train))\n",
        "    scores[(pipe_name,'test')] = r2_score(sample_pred, pipeline.predict(X_test))\n",
        "\n",
        "print(pd.Series(scores).unstack())"
      ],
      "metadata": {
        "colab": {
          "base_uri": "https://localhost:8080/"
        },
        "id": "B9XDRhFK6Qgh",
        "outputId": "b6a45891-547d-4647-f43e-7779971c706f"
      },
      "execution_count": null,
      "outputs": [
        {
          "output_type": "stream",
          "name": "stdout",
          "text": [
            "       test     train\n",
            "gbr1    0.0  0.933248\n",
            "gbr2    0.0  0.974950\n",
            "ols     0.0  0.649573\n",
            "rf      0.0  0.976893\n",
            "ridge   0.0  0.649570\n",
            "tree    0.0  1.000000\n"
          ]
        }
      ]
    },
    {
      "cell_type": "code",
      "source": [
        "model = GradientBoostingRegressor(\n",
        "    min_samples_split = 5,\n",
        "    min_samples_leaf = 52,\n",
        "    max_depth = 6,\n",
        "    max_features = 'sqrt',\n",
        "    subsample = 0.8)\n",
        "\n",
        "model.fit(X_train, y)"
      ],
      "metadata": {
        "colab": {
          "base_uri": "https://localhost:8080/",
          "height": 92
        },
        "id": "mT5DstJb65k1",
        "outputId": "ad25e88a-c965-494b-c681-13d1e092b49a"
      },
      "execution_count": null,
      "outputs": [
        {
          "output_type": "execute_result",
          "data": {
            "text/plain": [
              "GradientBoostingRegressor(max_depth=6, max_features='sqrt', min_samples_leaf=52,\n",
              "                          min_samples_split=5, subsample=0.8)"
            ],
            "text/html": [
              "<style>#sk-container-id-1 {color: black;background-color: white;}#sk-container-id-1 pre{padding: 0;}#sk-container-id-1 div.sk-toggleable {background-color: white;}#sk-container-id-1 label.sk-toggleable__label {cursor: pointer;display: block;width: 100%;margin-bottom: 0;padding: 0.3em;box-sizing: border-box;text-align: center;}#sk-container-id-1 label.sk-toggleable__label-arrow:before {content: \"▸\";float: left;margin-right: 0.25em;color: #696969;}#sk-container-id-1 label.sk-toggleable__label-arrow:hover:before {color: black;}#sk-container-id-1 div.sk-estimator:hover label.sk-toggleable__label-arrow:before {color: black;}#sk-container-id-1 div.sk-toggleable__content {max-height: 0;max-width: 0;overflow: hidden;text-align: left;background-color: #f0f8ff;}#sk-container-id-1 div.sk-toggleable__content pre {margin: 0.2em;color: black;border-radius: 0.25em;background-color: #f0f8ff;}#sk-container-id-1 input.sk-toggleable__control:checked~div.sk-toggleable__content {max-height: 200px;max-width: 100%;overflow: auto;}#sk-container-id-1 input.sk-toggleable__control:checked~label.sk-toggleable__label-arrow:before {content: \"▾\";}#sk-container-id-1 div.sk-estimator input.sk-toggleable__control:checked~label.sk-toggleable__label {background-color: #d4ebff;}#sk-container-id-1 div.sk-label input.sk-toggleable__control:checked~label.sk-toggleable__label {background-color: #d4ebff;}#sk-container-id-1 input.sk-hidden--visually {border: 0;clip: rect(1px 1px 1px 1px);clip: rect(1px, 1px, 1px, 1px);height: 1px;margin: -1px;overflow: hidden;padding: 0;position: absolute;width: 1px;}#sk-container-id-1 div.sk-estimator {font-family: monospace;background-color: #f0f8ff;border: 1px dotted black;border-radius: 0.25em;box-sizing: border-box;margin-bottom: 0.5em;}#sk-container-id-1 div.sk-estimator:hover {background-color: #d4ebff;}#sk-container-id-1 div.sk-parallel-item::after {content: \"\";width: 100%;border-bottom: 1px solid gray;flex-grow: 1;}#sk-container-id-1 div.sk-label:hover label.sk-toggleable__label {background-color: #d4ebff;}#sk-container-id-1 div.sk-serial::before {content: \"\";position: absolute;border-left: 1px solid gray;box-sizing: border-box;top: 0;bottom: 0;left: 50%;z-index: 0;}#sk-container-id-1 div.sk-serial {display: flex;flex-direction: column;align-items: center;background-color: white;padding-right: 0.2em;padding-left: 0.2em;position: relative;}#sk-container-id-1 div.sk-item {position: relative;z-index: 1;}#sk-container-id-1 div.sk-parallel {display: flex;align-items: stretch;justify-content: center;background-color: white;position: relative;}#sk-container-id-1 div.sk-item::before, #sk-container-id-1 div.sk-parallel-item::before {content: \"\";position: absolute;border-left: 1px solid gray;box-sizing: border-box;top: 0;bottom: 0;left: 50%;z-index: -1;}#sk-container-id-1 div.sk-parallel-item {display: flex;flex-direction: column;z-index: 1;position: relative;background-color: white;}#sk-container-id-1 div.sk-parallel-item:first-child::after {align-self: flex-end;width: 50%;}#sk-container-id-1 div.sk-parallel-item:last-child::after {align-self: flex-start;width: 50%;}#sk-container-id-1 div.sk-parallel-item:only-child::after {width: 0;}#sk-container-id-1 div.sk-dashed-wrapped {border: 1px dashed gray;margin: 0 0.4em 0.5em 0.4em;box-sizing: border-box;padding-bottom: 0.4em;background-color: white;}#sk-container-id-1 div.sk-label label {font-family: monospace;font-weight: bold;display: inline-block;line-height: 1.2em;}#sk-container-id-1 div.sk-label-container {text-align: center;}#sk-container-id-1 div.sk-container {/* jupyter's `normalize.less` sets `[hidden] { display: none; }` but bootstrap.min.css set `[hidden] { display: none !important; }` so we also need the `!important` here to be able to override the default hidden behavior on the sphinx rendered scikit-learn.org. See: https://github.com/scikit-learn/scikit-learn/issues/21755 */display: inline-block !important;position: relative;}#sk-container-id-1 div.sk-text-repr-fallback {display: none;}</style><div id=\"sk-container-id-1\" class=\"sk-top-container\"><div class=\"sk-text-repr-fallback\"><pre>GradientBoostingRegressor(max_depth=6, max_features=&#x27;sqrt&#x27;, min_samples_leaf=52,\n",
              "                          min_samples_split=5, subsample=0.8)</pre><b>In a Jupyter environment, please rerun this cell to show the HTML representation or trust the notebook. <br />On GitHub, the HTML representation is unable to render, please try loading this page with nbviewer.org.</b></div><div class=\"sk-container\" hidden><div class=\"sk-item\"><div class=\"sk-estimator sk-toggleable\"><input class=\"sk-toggleable__control sk-hidden--visually\" id=\"sk-estimator-id-1\" type=\"checkbox\" checked><label for=\"sk-estimator-id-1\" class=\"sk-toggleable__label sk-toggleable__label-arrow\">GradientBoostingRegressor</label><div class=\"sk-toggleable__content\"><pre>GradientBoostingRegressor(max_depth=6, max_features=&#x27;sqrt&#x27;, min_samples_leaf=52,\n",
              "                          min_samples_split=5, subsample=0.8)</pre></div></div></div></div></div>"
            ]
          },
          "metadata": {},
          "execution_count": 52
        }
      ]
    },
    {
      "cell_type": "code",
      "source": [
        "# 予測\n",
        "pred = model.predict(X_test)\n",
        "print(pred)"
      ],
      "metadata": {
        "colab": {
          "base_uri": "https://localhost:8080/"
        },
        "id": "U-Hav-_X67_N",
        "outputId": "facf74e0-fec8-4615-aad7-8925e03512ea"
      },
      "execution_count": null,
      "outputs": [
        {
          "output_type": "stream",
          "name": "stdout",
          "text": [
            "[35.74555868 28.57569476 26.19096296 31.77465053 29.06940641 36.43868031\n",
            " 28.65923506 25.27584602 34.19886812 20.09081021 33.75798458 34.48068505\n",
            " 20.86691958 25.884356   19.29171595 30.86220357 17.71751172 18.45208392\n",
            " 33.78350386 35.21021863 32.54522523 34.30035099 22.44674281 21.37787861\n",
            " 36.7307988  21.5016383  21.99098691 17.71751172 20.89876461 22.55915824\n",
            " 36.50386767 24.84514091 18.52673718 25.20752613 21.65295155 36.66785153\n",
            " 26.48394983 23.9347838  30.10022033 31.74154137 23.75143868 28.3137494\n",
            " 32.75486342 34.28801156 30.258882   20.49939231 17.78628004 20.17141947\n",
            " 36.56934462 27.64859714 17.23711361 32.0632843  23.83507441 35.23212292\n",
            " 20.17141947 27.18813219 30.69851321 34.87354564 29.09648256 29.16953445\n",
            " 31.26355146 17.94349184 24.92104713 26.65016853 21.78830383 32.27363388\n",
            " 31.85050107 23.64712984 27.89560883 22.60829269 27.75584121 34.93254957\n",
            " 36.16512212 20.84320398 32.35844212 17.71751172 24.27978706 19.72107044\n",
            " 36.60534728 35.74555868 18.52673718 26.130717   34.24537092 17.45862535\n",
            " 33.91605367 27.25056595 23.83507441 36.41925122 28.6766232  18.26930937\n",
            " 29.77552915 28.27018017 18.08841074 26.90769858 26.67658377 36.41925122\n",
            " 33.52733468 29.91031842 35.08156696 26.55545414 35.73249084 35.00602958\n",
            " 30.73436212 23.6546698  20.62554603 33.5751477  29.07193318 34.38026854\n",
            " 36.04895877 29.41564405 35.56770098 36.50386767 32.91878359 20.10315407\n",
            " 26.7325291  30.54536728 32.0632843  27.11822437 33.84334015 23.05347668\n",
            " 28.34796083 21.31574497 20.69783609 29.2041245  26.53790405 20.49939231\n",
            " 25.33234637 34.47539655 28.8379683  34.97448503 35.49267232 32.36325182\n",
            " 18.46346641 18.54680641 33.99404826 35.21351166 22.82986514 18.54680641\n",
            " 34.60919032 35.73808887 34.35003748 30.15445693 38.74735829 36.56934462\n",
            " 30.17036827 18.08841074 17.23711361 20.64474529 21.78093199 32.35844212\n",
            " 29.1901014  34.38026854 30.24914977 35.9930046  21.31574497 20.13969483\n",
            " 36.56934462 33.8899634  20.28303752 22.79314743 34.41629357 19.12101108\n",
            " 33.16446374 18.46346641 31.58218226 21.86398056 25.14848762 28.33794143\n",
            " 27.58449369 35.58337612 24.80180688 18.34977108 28.68308044 25.15300985\n",
            " 24.93823083 20.22109417 16.78903862 26.39001899 23.9347838  32.35844212\n",
            " 34.73593267 37.30113309 23.32708271 21.61664089 23.9347838  33.94090703\n",
            " 24.29129236 28.65923506 28.10675223 17.53960297 28.65923506 30.6099936\n",
            " 19.66189952 36.62569467 33.35628871 24.65601106 30.32647914 33.78912243\n",
            " 26.68712203 26.48394983 25.88378004 35.77397997 34.49708977 30.30113509\n",
            " 31.01498698 34.38026854 22.97964663 21.57884198 27.85896978 28.65923506\n",
            " 18.48874743 20.17174108 17.58983011 31.38285116 36.56934462 32.55682959\n",
            " 23.200221   27.75114713 33.98191148 21.86284548 35.77397997 34.16511962\n",
            " 30.31782596 23.21214247 30.99820335 17.23711361 19.75068098 23.9347838\n",
            " 17.23711361 23.15872289 32.91878359 18.46346641 18.31398959 28.37072067\n",
            " 22.52568412 29.636825   29.74301391 18.20380299 33.59175864 19.86652643\n",
            " 20.10315407 29.05076118 34.16511962 20.75102411 25.57543905 36.06657234\n",
            " 35.60268669 27.58449369 29.95605472 32.30794731 19.62588115 33.75798458\n",
            " 33.16446374 31.57045361 26.31214611 21.16956097 29.09648256 35.92104852\n",
            " 27.8137804  33.55385168 21.38008276 29.57751274 18.46346641 21.85971322\n",
            " 18.26930937 24.90592411 32.02448473 21.37787861 20.59845796 26.85388403\n",
            " 20.38976315 18.00804374 24.54329849 24.8714928  17.71751172 29.35523062\n",
            " 28.82195196 17.23711361 35.20747064 21.47829284 23.30869121 29.37517108\n",
            " 35.59485058 23.9347838  28.80093261 26.33991636 18.7616943  28.87005431\n",
            " 35.64388385 36.41925122 27.94936098 34.91030344 20.19272782 21.60089515\n",
            " 32.55885216 34.38026854 33.59175864 33.05377509 36.27428069 35.05529335\n",
            " 25.86974315 22.60917103 30.04857024 17.76716513 25.2414807  35.88303245\n",
            " 34.62988038 24.44321842 32.89561938 31.36896243 32.35844212 16.38240384\n",
            " 27.17931017 32.0632843  34.38026854 31.35030168 21.02179688 21.61862372\n",
            " 22.0184322  34.94177854 20.38976315 16.98253704 23.75030892 17.53024431\n",
            " 34.52333892 35.68750114 18.54680641 22.3250103  23.30912866 18.08841074\n",
            " 33.16446374 35.77397997 26.94691762 21.52615749 20.86579041 28.50347772\n",
            " 25.78153889 19.28820821 29.4620012  19.71825398 31.63434012 33.75798458\n",
            " 20.14985239 17.71751172 26.69967325 18.46346641 17.88086046 21.42319841\n",
            " 17.23711361 36.56934462 24.27978706 30.258882   33.77009794 36.60550671\n",
            " 25.53554792 21.31574497 26.84935314 19.75068098 23.9347838  33.41676687\n",
            " 27.72738976 18.46346641 33.15926112 29.55343815 33.98657845 25.58400196\n",
            " 35.41872865 29.80947468 17.71751172 18.20380299 29.31656325 30.14179219\n",
            " 27.3724826  26.27224174 24.83882261 25.81202658 22.95587322 33.97223615\n",
            " 24.98253568 28.72287032 17.71751172 27.25903137 22.25510499 31.79011773\n",
            " 24.80180688 26.18292187 18.52673718 26.84762488 16.78903862 21.02179688\n",
            " 33.98089742 34.42777184 33.75798458 35.73808887 32.30142832 20.83829515\n",
            " 21.89027472 33.22870814 34.32753672 35.05545765 28.70376937 34.38026854\n",
            " 22.16648495 23.07963292 38.79161919 21.37787861 32.07028693 33.73460227\n",
            " 27.99483222 27.54351783 24.45657785 27.98403498 24.08101695 21.22684411\n",
            " 37.30222307 26.34241017 20.88562471 28.93517077 35.61195277 35.35850158\n",
            " 21.51960746 17.71751172 24.06484764 36.08164983 20.77956852 32.21128351\n",
            " 21.93894586 18.24623345 26.34736303 32.82950019 33.0373596  23.96950974\n",
            " 35.30607927 17.23711361 28.6880362  28.95055597 29.30604482 35.73808887\n",
            " 36.13186655 20.25475947 22.05021611 28.93517077 34.38026854 33.20324833\n",
            " 33.77009794 34.19886812 21.89027472 33.16446374 36.41925122 34.0616383\n",
            " 35.52690012 20.10315407 35.73808887 17.78738288 26.01022483 32.0632843\n",
            " 17.11940876 23.15872289 16.78903862 17.13079125 30.60518658 21.9204685\n",
            " 22.00227595 21.97361472 22.484533   36.56934462 19.0874474  35.74555868\n",
            " 26.34241017 25.50786178 31.35479657 32.91878359 21.31574497 24.73019911\n",
            " 18.09959751 28.90293432 33.38164829 22.46102698 19.1866024  27.98403498\n",
            " 35.90731327 21.37787861 24.0801255  35.74555868 36.33020297 33.75798458\n",
            " 19.84349065 30.89232707 24.72349061 33.45382728 23.9347838  20.49939231\n",
            " 28.34796083 22.64428109 20.86579041 27.34994393 27.79679847 16.97468558\n",
            " 26.19096296]\n"
          ]
        }
      ]
    },
    {
      "cell_type": "code",
      "source": [
        "sample[1] = pred\n",
        "sample.to_csv('GradientBoostingRegressor.csv', index=None, header=None)"
      ],
      "metadata": {
        "id": "gw7416y66_Ur"
      },
      "execution_count": null,
      "outputs": []
    },
    {
      "cell_type": "code",
      "source": [
        "param = {'n_estimators': list(range(20, 101, 10)),\n",
        "             'learning_rate': list(np.arange(0.05, 0.20, 0.01))}\n"
      ],
      "metadata": {
        "id": "hO0BWjO_7Rae"
      },
      "execution_count": null,
      "outputs": []
    },
    {
      "cell_type": "code",
      "source": [
        "# scoringを neg_mean_squared_error(負のMSE)とする\n",
        "gsearch1 = GridSearchCV(estimator = model,\n",
        "                        param_grid = param,\n",
        "                        cv = 5,\n",
        "                        n_jobs=4,\n",
        "                        scoring = 'neg_mean_squared_error')\n",
        "\n",
        "\n",
        "#fitさせる\n",
        "gsearch1.fit(X_train, y)"
      ],
      "metadata": {
        "colab": {
          "base_uri": "https://localhost:8080/",
          "height": 117
        },
        "id": "s7qmOR9m7TfS",
        "outputId": "44807d78-cd47-46d0-e4c6-764ba38c859f"
      },
      "execution_count": null,
      "outputs": [
        {
          "output_type": "execute_result",
          "data": {
            "text/plain": [
              "GridSearchCV(cv=5,\n",
              "             estimator=GradientBoostingRegressor(max_depth=6,\n",
              "                                                 max_features='sqrt',\n",
              "                                                 min_samples_leaf=52,\n",
              "                                                 min_samples_split=5,\n",
              "                                                 subsample=0.8),\n",
              "             n_jobs=4,\n",
              "             param_grid={'learning_rate': [0.05, 0.060000000000000005, 0.07,\n",
              "                                           0.08000000000000002,\n",
              "                                           0.09000000000000001, 0.1,\n",
              "                                           0.11000000000000001,\n",
              "                                           0.12000000000000001, 0.13, 0.14,\n",
              "                                           0.15000000000000002,\n",
              "                                           0.16000000000000003,\n",
              "                                           0.17000000000000004,\n",
              "                                           0.18000000000000005, 0.19, 0.2],\n",
              "                         'n_estimators': [20, 30, 40, 50, 60, 70, 80, 90, 100]},\n",
              "             scoring='neg_mean_squared_error')"
            ],
            "text/html": [
              "<style>#sk-container-id-2 {color: black;background-color: white;}#sk-container-id-2 pre{padding: 0;}#sk-container-id-2 div.sk-toggleable {background-color: white;}#sk-container-id-2 label.sk-toggleable__label {cursor: pointer;display: block;width: 100%;margin-bottom: 0;padding: 0.3em;box-sizing: border-box;text-align: center;}#sk-container-id-2 label.sk-toggleable__label-arrow:before {content: \"▸\";float: left;margin-right: 0.25em;color: #696969;}#sk-container-id-2 label.sk-toggleable__label-arrow:hover:before {color: black;}#sk-container-id-2 div.sk-estimator:hover label.sk-toggleable__label-arrow:before {color: black;}#sk-container-id-2 div.sk-toggleable__content {max-height: 0;max-width: 0;overflow: hidden;text-align: left;background-color: #f0f8ff;}#sk-container-id-2 div.sk-toggleable__content pre {margin: 0.2em;color: black;border-radius: 0.25em;background-color: #f0f8ff;}#sk-container-id-2 input.sk-toggleable__control:checked~div.sk-toggleable__content {max-height: 200px;max-width: 100%;overflow: auto;}#sk-container-id-2 input.sk-toggleable__control:checked~label.sk-toggleable__label-arrow:before {content: \"▾\";}#sk-container-id-2 div.sk-estimator input.sk-toggleable__control:checked~label.sk-toggleable__label {background-color: #d4ebff;}#sk-container-id-2 div.sk-label input.sk-toggleable__control:checked~label.sk-toggleable__label {background-color: #d4ebff;}#sk-container-id-2 input.sk-hidden--visually {border: 0;clip: rect(1px 1px 1px 1px);clip: rect(1px, 1px, 1px, 1px);height: 1px;margin: -1px;overflow: hidden;padding: 0;position: absolute;width: 1px;}#sk-container-id-2 div.sk-estimator {font-family: monospace;background-color: #f0f8ff;border: 1px dotted black;border-radius: 0.25em;box-sizing: border-box;margin-bottom: 0.5em;}#sk-container-id-2 div.sk-estimator:hover {background-color: #d4ebff;}#sk-container-id-2 div.sk-parallel-item::after {content: \"\";width: 100%;border-bottom: 1px solid gray;flex-grow: 1;}#sk-container-id-2 div.sk-label:hover label.sk-toggleable__label {background-color: #d4ebff;}#sk-container-id-2 div.sk-serial::before {content: \"\";position: absolute;border-left: 1px solid gray;box-sizing: border-box;top: 0;bottom: 0;left: 50%;z-index: 0;}#sk-container-id-2 div.sk-serial {display: flex;flex-direction: column;align-items: center;background-color: white;padding-right: 0.2em;padding-left: 0.2em;position: relative;}#sk-container-id-2 div.sk-item {position: relative;z-index: 1;}#sk-container-id-2 div.sk-parallel {display: flex;align-items: stretch;justify-content: center;background-color: white;position: relative;}#sk-container-id-2 div.sk-item::before, #sk-container-id-2 div.sk-parallel-item::before {content: \"\";position: absolute;border-left: 1px solid gray;box-sizing: border-box;top: 0;bottom: 0;left: 50%;z-index: -1;}#sk-container-id-2 div.sk-parallel-item {display: flex;flex-direction: column;z-index: 1;position: relative;background-color: white;}#sk-container-id-2 div.sk-parallel-item:first-child::after {align-self: flex-end;width: 50%;}#sk-container-id-2 div.sk-parallel-item:last-child::after {align-self: flex-start;width: 50%;}#sk-container-id-2 div.sk-parallel-item:only-child::after {width: 0;}#sk-container-id-2 div.sk-dashed-wrapped {border: 1px dashed gray;margin: 0 0.4em 0.5em 0.4em;box-sizing: border-box;padding-bottom: 0.4em;background-color: white;}#sk-container-id-2 div.sk-label label {font-family: monospace;font-weight: bold;display: inline-block;line-height: 1.2em;}#sk-container-id-2 div.sk-label-container {text-align: center;}#sk-container-id-2 div.sk-container {/* jupyter's `normalize.less` sets `[hidden] { display: none; }` but bootstrap.min.css set `[hidden] { display: none !important; }` so we also need the `!important` here to be able to override the default hidden behavior on the sphinx rendered scikit-learn.org. See: https://github.com/scikit-learn/scikit-learn/issues/21755 */display: inline-block !important;position: relative;}#sk-container-id-2 div.sk-text-repr-fallback {display: none;}</style><div id=\"sk-container-id-2\" class=\"sk-top-container\"><div class=\"sk-text-repr-fallback\"><pre>GridSearchCV(cv=5,\n",
              "             estimator=GradientBoostingRegressor(max_depth=6,\n",
              "                                                 max_features=&#x27;sqrt&#x27;,\n",
              "                                                 min_samples_leaf=52,\n",
              "                                                 min_samples_split=5,\n",
              "                                                 subsample=0.8),\n",
              "             n_jobs=4,\n",
              "             param_grid={&#x27;learning_rate&#x27;: [0.05, 0.060000000000000005, 0.07,\n",
              "                                           0.08000000000000002,\n",
              "                                           0.09000000000000001, 0.1,\n",
              "                                           0.11000000000000001,\n",
              "                                           0.12000000000000001, 0.13, 0.14,\n",
              "                                           0.15000000000000002,\n",
              "                                           0.16000000000000003,\n",
              "                                           0.17000000000000004,\n",
              "                                           0.18000000000000005, 0.19, 0.2],\n",
              "                         &#x27;n_estimators&#x27;: [20, 30, 40, 50, 60, 70, 80, 90, 100]},\n",
              "             scoring=&#x27;neg_mean_squared_error&#x27;)</pre><b>In a Jupyter environment, please rerun this cell to show the HTML representation or trust the notebook. <br />On GitHub, the HTML representation is unable to render, please try loading this page with nbviewer.org.</b></div><div class=\"sk-container\" hidden><div class=\"sk-item sk-dashed-wrapped\"><div class=\"sk-label-container\"><div class=\"sk-label sk-toggleable\"><input class=\"sk-toggleable__control sk-hidden--visually\" id=\"sk-estimator-id-2\" type=\"checkbox\" ><label for=\"sk-estimator-id-2\" class=\"sk-toggleable__label sk-toggleable__label-arrow\">GridSearchCV</label><div class=\"sk-toggleable__content\"><pre>GridSearchCV(cv=5,\n",
              "             estimator=GradientBoostingRegressor(max_depth=6,\n",
              "                                                 max_features=&#x27;sqrt&#x27;,\n",
              "                                                 min_samples_leaf=52,\n",
              "                                                 min_samples_split=5,\n",
              "                                                 subsample=0.8),\n",
              "             n_jobs=4,\n",
              "             param_grid={&#x27;learning_rate&#x27;: [0.05, 0.060000000000000005, 0.07,\n",
              "                                           0.08000000000000002,\n",
              "                                           0.09000000000000001, 0.1,\n",
              "                                           0.11000000000000001,\n",
              "                                           0.12000000000000001, 0.13, 0.14,\n",
              "                                           0.15000000000000002,\n",
              "                                           0.16000000000000003,\n",
              "                                           0.17000000000000004,\n",
              "                                           0.18000000000000005, 0.19, 0.2],\n",
              "                         &#x27;n_estimators&#x27;: [20, 30, 40, 50, 60, 70, 80, 90, 100]},\n",
              "             scoring=&#x27;neg_mean_squared_error&#x27;)</pre></div></div></div><div class=\"sk-parallel\"><div class=\"sk-parallel-item\"><div class=\"sk-item\"><div class=\"sk-label-container\"><div class=\"sk-label sk-toggleable\"><input class=\"sk-toggleable__control sk-hidden--visually\" id=\"sk-estimator-id-3\" type=\"checkbox\" ><label for=\"sk-estimator-id-3\" class=\"sk-toggleable__label sk-toggleable__label-arrow\">estimator: GradientBoostingRegressor</label><div class=\"sk-toggleable__content\"><pre>GradientBoostingRegressor(max_depth=6, max_features=&#x27;sqrt&#x27;, min_samples_leaf=52,\n",
              "                          min_samples_split=5, subsample=0.8)</pre></div></div></div><div class=\"sk-serial\"><div class=\"sk-item\"><div class=\"sk-estimator sk-toggleable\"><input class=\"sk-toggleable__control sk-hidden--visually\" id=\"sk-estimator-id-4\" type=\"checkbox\" ><label for=\"sk-estimator-id-4\" class=\"sk-toggleable__label sk-toggleable__label-arrow\">GradientBoostingRegressor</label><div class=\"sk-toggleable__content\"><pre>GradientBoostingRegressor(max_depth=6, max_features=&#x27;sqrt&#x27;, min_samples_leaf=52,\n",
              "                          min_samples_split=5, subsample=0.8)</pre></div></div></div></div></div></div></div></div></div></div>"
            ]
          },
          "metadata": {},
          "execution_count": 56
        }
      ]
    },
    {
      "cell_type": "code",
      "source": [
        "# test精度の平均が最も高かった組み合わせを出力\n",
        "print(gsearch1.best_params_)"
      ],
      "metadata": {
        "colab": {
          "base_uri": "https://localhost:8080/"
        },
        "id": "HyzgBPS-7YfD",
        "outputId": "d017643a-11bd-4a44-fde5-55e86f8d92db"
      },
      "execution_count": null,
      "outputs": [
        {
          "output_type": "stream",
          "name": "stdout",
          "text": [
            "{'learning_rate': 0.18000000000000005, 'n_estimators': 100}\n"
          ]
        }
      ]
    },
    {
      "cell_type": "code",
      "source": [
        "# 予測\n",
        "pred_gsearch = gsearch1.predict(X_test)\n",
        "\n",
        "sample[1] = pred_gsearch\n",
        "sample.to_csv('GBR_pred_gsearch.csv', index=None, header=None)"
      ],
      "metadata": {
        "id": "_7GrfV9d7iKq"
      },
      "execution_count": null,
      "outputs": []
    },
    {
      "cell_type": "code",
      "source": [
        "params = {'n_estimators'  : [10, 100, 500, 2000], 'n_jobs': [-1]}\n",
        "\n",
        "# モデルにインスタンス生成\n",
        "mod = RandomForestRegressor()\n",
        "\n",
        "# ハイパーパラメータ探索\n",
        "cv = GridSearchCV(mod, params, cv = 10, scoring= 'neg_mean_squared_error', n_jobs =1)\n",
        "cv.fit(X_train, y)\n",
        "\n",
        "# 予測\n",
        "pred_cv = cv.predict(X_test)\n",
        "\n",
        "sample[1] = pred_cv\n",
        "sample.to_csv('RFR_gridserch.csv', index=None, header=None)"
      ],
      "metadata": {
        "id": "CZqsp5lk7yEB"
      },
      "execution_count": null,
      "outputs": []
    },
    {
      "cell_type": "code",
      "source": [
        "import pandas as pd\n",
        "\n",
        "# CSVファイルの読み込み\n",
        "df = pd.read_csv('/content/RFR_gridserch.csv')\n",
        "# 左から2行目を削除\n",
        "df = df.drop(1)\n",
        "\n",
        "# 変更をCSVファイルに保存\n",
        "df.to_csv('submit.csv', index=False)"
      ],
      "metadata": {
        "id": "VfbRelp68jLG"
      },
      "execution_count": null,
      "outputs": []
    }
  ]
}